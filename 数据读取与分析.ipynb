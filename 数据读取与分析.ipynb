{
 "cells": [
  {
   "cell_type": "code",
   "execution_count": null,
   "id": "f4633afc-58c9-4aa3-ad89-91b6726d58d6",
   "metadata": {},
   "outputs": [],
   "source": [
    "# 数据读取与分析\n",
    "import pandas as pd\n",
    "import matplotlib.pyplot as plt\n",
    "\n",
    "train_data=pd.read_csv(\"C:\\\\Users\\\\hjg\\\\OneDrive\\\\桌面\\\\对话意图识别\\\\train.csv\",sep='\\t',header=None)\n",
    "test_data=pd.read_csv(\"C:\\\\Users\\\\hjg\\\\OneDrive\\\\桌面\\\\对话意图识别\\\\test.csv\",sep='\\t',header=None)\n",
    "'#'.join(train_data[1].unique())\n",
    "train_data[1].value_counts()\n",
    "# 文本字符个数统计\n",
    "train_data[0].apply(len).plot(kind='hist')\n",
    "test_data[0].apply(len).plot(kind='hist')\n",
    "\n",
    "plt.legend(['Train','Test'])\n",
    "# 对字符长度进行统计\n",
    "train_data[0].apply(len).describe()\n",
    "\n",
    "\n",
    "from wordcloud import WordCloud\n",
    "import matplotlib.pyplot as plt\n",
    "import jieba\n",
    "# 中文分词\n",
    "content=train_data[train_data[1]=='Music-Play'][0]\n",
    "content=' '.join(content)\n",
    "content=jieba.cut(content)\n",
    "#取出停用词表\n",
    "cn_stopwords = ' '.join(str(x) for x in pd.read_csv('https://mirror.coggle.club/stopwords/baidu_stopwords.txt', header=None)[0])\n",
    "words = [x for x in content if x not in cn_stopwords]\n",
    "# 绘制云图\n",
    "wordcloud=WordCloud(background_color='white',max_words=1000,font_path='./simsun.ttc')\n",
    "wordcloud.generate(' '.join(words))\n",
    "plt.imshow(wordcloud)\n",
    "plt.xticks([]);plt.yticks([])"
   ]
  }
 ],
 "metadata": {
  "kernelspec": {
   "display_name": "Python 3 (ipykernel)",
   "language": "python",
   "name": "python3"
  },
  "language_info": {
   "codemirror_mode": {
    "name": "ipython",
    "version": 3
   },
   "file_extension": ".py",
   "mimetype": "text/x-python",
   "name": "python",
   "nbconvert_exporter": "python",
   "pygments_lexer": "ipython3",
   "version": "3.11.7"
  }
 },
 "nbformat": 4,
 "nbformat_minor": 5
}
